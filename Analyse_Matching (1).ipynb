{
  "nbformat": 4,
  "nbformat_minor": 0,
  "metadata": {
    "colab": {
      "provenance": []
    },
    "kernelspec": {
      "name": "python3",
      "display_name": "Python 3"
    },
    "language_info": {
      "name": "python"
    }
  },
  "cells": [
    {
      "cell_type": "markdown",
      "source": [
        "**ARTICLE 1 - ANGELE MENDY**"
      ],
      "metadata": {
        "id": "y2cQyyw138MU"
      }
    },
    {
      "cell_type": "markdown",
      "source": [
        "**TEST TECHNIQUE WEB DATA ANALYST MENTORAT**"
      ],
      "metadata": {
        "id": "bkjk8xsg23aE"
      }
    },
    {
      "cell_type": "code",
      "source": [
        "!pip install -q pandas\n"
      ],
      "metadata": {
        "id": "AqtBi1AYPpZg"
      },
      "execution_count": null,
      "outputs": []
    },
    {
      "cell_type": "code",
      "source": [
        "import pandas as pd\n"
      ],
      "metadata": {
        "id": "zfyLvknsPwDS"
      },
      "execution_count": null,
      "outputs": []
    },
    {
      "cell_type": "code",
      "source": [
        "from google.colab import files\n",
        "\n",
        "# Uploadez votre fichier CSV\n",
        "uploaded = files.upload()\n"
      ],
      "metadata": {
        "id": "Uyu6nP1OP1Dj"
      },
      "execution_count": null,
      "outputs": []
    },
    {
      "cell_type": "code",
      "source": [
        "import pandas as pd\n",
        "\n",
        "extract = list(uploaded.keys())[0]\n",
        "\n",
        "# Chargement du fichier CSV dans un DataFrame\n",
        "extract = pd.read_csv(extract)\n",
        "\n",
        "# Affichage des premières lignes du DataFrame\n",
        "extract.head()\n"
      ],
      "metadata": {
        "id": "-uPFiBrBR-m6"
      },
      "execution_count": null,
      "outputs": []
    },
    {
      "cell_type": "code",
      "source": [
        "# Copie du DataFrame\n",
        "df = extract.copy()\n"
      ],
      "metadata": {
        "id": "U7gsf9dESEyO"
      },
      "execution_count": null,
      "outputs": []
    },
    {
      "cell_type": "code",
      "source": [
        "df.describe()\n"
      ],
      "metadata": {
        "id": "hbkGCAbgSTDe"
      },
      "execution_count": null,
      "outputs": []
    },
    {
      "cell_type": "code",
      "source": [
        "df.isnull().sum()\n"
      ],
      "metadata": {
        "id": "Xq0kDZmkSkyl"
      },
      "execution_count": null,
      "outputs": []
    },
    {
      "cell_type": "code",
      "source": [
        "# Affichage des noms des colonnes totalement vides\n",
        "columns_with_all_nulls = df.columns[df.isnull().all()]\n",
        "print(\"Colonnes totalement vides :\", columns_with_all_nulls)\n",
        "\n",
        "# Suppression des colonnes totalement vides\n",
        "df = df.drop(columns=columns_with_all_nulls, axis=1)\n",
        "\n",
        "\n"
      ],
      "metadata": {
        "id": "Huw8as1WTT6l"
      },
      "execution_count": null,
      "outputs": []
    },
    {
      "cell_type": "code",
      "source": [
        "# Affichage des noms des colonnes totalement vides\n",
        "columns_with_all_nulls = df.columns[df.isnull().all()]\n",
        "print(\"Colonnes totalement vides :\", columns_with_all_nulls)\n",
        "\n",
        "# Suppression des colonnes totalement vides\n",
        "df = df.drop(columns=columns_with_all_nulls, axis=1)\n",
        "\n",
        "# Affichage du DataFrame après la suppression\n",
        "print(df)\n"
      ],
      "metadata": {
        "id": "5OxpD-81Tflv"
      },
      "execution_count": null,
      "outputs": []
    },
    {
      "cell_type": "code",
      "source": [
        "# La liste des colonnes\n",
        "print(df.info)"
      ],
      "metadata": {
        "id": "euZv-PUsXp4q"
      },
      "execution_count": null,
      "outputs": []
    },
    {
      "cell_type": "code",
      "source": [
        "# Liste des colonnes de dates\n",
        "date_columns = ['b_date_proposition', 'b_date_creation', 'b_date_maj_statut', 'j_date_inscription']\n",
        "\n",
        "# Conversion des colonnes de dates\n",
        "for col in date_columns:\n",
        "    df[col] = pd.to_datetime(df[col], errors='coerce')\n",
        "\n",
        "# Types de données après la conversion\n",
        "print(df.dtypes)\n",
        "print(df.head())\n"
      ],
      "metadata": {
        "id": "S__va07NS5ke"
      },
      "execution_count": null,
      "outputs": []
    },
    {
      "cell_type": "code",
      "source": [
        "# Liste des colonnes de dates\n",
        "date_columns = ['b_date_proposition', 'b_date_creation', 'b_date_maj_statut', 'j_date_inscription']\n",
        "\n",
        "# Boucle pour traiter chaque colonne de date\n",
        "for col in date_columns:\n",
        "    # La colonne est déjà convertie en datetime?\n",
        "    df[col] = pd.to_datetime(df[col], errors='coerce')\n",
        "\n",
        "    # Création une nouvelle colonne pour stocker la date\n",
        "    df[f'{col}_date'] = df[col].dt.date\n",
        "\n",
        "    # Création une nouvelle colonne pour stocker l'heure\n",
        "    df[f'{col}_heure'] = df[col].dt.time\n",
        "\n",
        "    # Supp de l'heure de la colonne d'origine\n",
        "    df[col] = df[col].dt.floor('d')\n",
        "\n",
        "# Premières lignes du DataFrame avec les nouvelles colonnes\n",
        "df[date_columns + [f'{col}_date' for col in date_columns] + [f'{col}_heure' for col in date_columns]].head()\n"
      ],
      "metadata": {
        "id": "-6_5zWxGYS5S"
      },
      "execution_count": null,
      "outputs": []
    },
    {
      "cell_type": "code",
      "source": [
        "# Calcul de la colonne \"délai de matching\"\n",
        "df['delai_matching'] = (df['b_date_proposition']-df['b_date_creation']).dt.days\n",
        "\n",
        "# Affichage de lignes aléatoires\n",
        "print(df[['b_date_proposition', 'b_date_creation', 'delai_matching']].sample(frac=1))\n",
        "# Affichage des valeurs uniques et leur nombre pour la colonne 'delai_matching2'\n",
        "unique_values_counts = df['delai_matching'].value_counts()\n",
        "\n",
        "# Affichage des valeurs uniques\n",
        "print(\"Valeurs uniques :\")\n",
        "print(unique_values_counts.index)\n",
        "\n",
        "# Résultat\n",
        "print(\"\\nNombre d'occurrences :\")\n",
        "print(unique_values_counts)"
      ],
      "metadata": {
        "id": "NWKdlJIb5JDA"
      },
      "execution_count": null,
      "outputs": []
    },
    {
      "cell_type": "code",
      "source": [
        "# Calcul de la colonne \"délai de matching\"\n",
        "df['delai_matching2'] = (df['b_date_creation'] - df['b_date_proposition']).dt.days\n",
        "\n",
        "# Affichage du résultat\n",
        "print(df[['b_date_proposition', 'b_date_creation', 'delai_matching2']])\n",
        "\n",
        "# Affichage des valeurs uniques et leur nombre pour la colonne 'delai_matching2'\n",
        "unique_values_counts2 = df['delai_matching2'].value_counts()\n",
        "\n",
        "# Affichage des valeurs uniques\n",
        "print(\"Valeurs uniques :\")\n",
        "print(unique_values_counts2.index)\n",
        "\n",
        "# Résultat\n",
        "print(\"\\nNombre d'occurrences :\")\n",
        "print(unique_values_counts2)\n"
      ],
      "metadata": {
        "id": "lNfBFyF9Bg90"
      },
      "execution_count": null,
      "outputs": []
    },
    {
      "cell_type": "code",
      "source": [
        "# Affichage des valeurs uniques et leur nombre pour la colonne 'delai_matching'\n",
        "unique_values_counts = df['delai_matching'].value_counts()\n",
        "\n",
        "# Affichage des valeurs uniques\n",
        "print(\"Valeurs uniques :\")\n",
        "print(unique_values_counts.index)\n",
        "\n",
        "# Résultat\n",
        "print(\"\\nNombre d'occurrences :\")\n",
        "print(unique_values_counts)\n"
      ],
      "metadata": {
        "id": "G7mYvzIX2r3h"
      },
      "execution_count": null,
      "outputs": []
    },
    {
      "cell_type": "markdown",
      "source": [
        "Question? Les dates 'b_date_creation' et 'b_date_proposition' ont-elle ete inversees?\n"
      ],
      "metadata": {
        "id": "_3GEC0daDtIv"
      }
    },
    {
      "cell_type": "code",
      "source": [
        "# Filtrer les lignes où la date de création est antérieure à la date de proposition\n",
        "inconsistent_rows = df[df['b_date_creation'] < df['b_date_proposition']]\n",
        "\n",
        "# Afficher les lignes complètes avec les colonnes spécifiées\n",
        "print('''inconsistent_rows = toutes les lignes où la date de création est\n",
        "      antérieure à la date de proposition.\n",
        "      Ici, on trouve une incohérence dans vos données.''')\n",
        "print('')\n",
        "print(inconsistent_rows[['b_id', 'b_date_proposition', 'b_date_creation']])\n"
      ],
      "metadata": {
        "id": "WWSKE49px74-"
      },
      "execution_count": null,
      "outputs": []
    },
    {
      "cell_type": "markdown",
      "source": [
        "**Correction de l'anomalie détectée dans les données.**"
      ],
      "metadata": {
        "id": "KEFoKTrc66kX"
      }
    },
    {
      "cell_type": "code",
      "source": [
        "# Afficher les lignes complètes des données incohérentes\n",
        "print(df.loc[inconsistent_rows.index, ['b_date_proposition_date', 'b_date_creation_date']])\n"
      ],
      "metadata": {
        "id": "8Zl-c_o27MZg"
      },
      "execution_count": null,
      "outputs": []
    },
    {
      "cell_type": "markdown",
      "source": [
        "ICI je decide d'interverir les donnees des colonnes ['b_date_proposition_date', 'b_date_creation_date']"
      ],
      "metadata": {
        "id": "SzyvLFTKMK34"
      }
    },
    {
      "cell_type": "code",
      "source": [
        "df.sample(10)\n"
      ],
      "metadata": {
        "id": "OStyk6jwEEsO"
      },
      "execution_count": null,
      "outputs": []
    },
    {
      "cell_type": "code",
      "source": [
        "#Verification (il sagit des 16 #-2)\n",
        "df[df['b_date_creation'] < df['b_date_proposition']]"
      ],
      "metadata": {
        "id": "iuvSDEt67bJF"
      },
      "execution_count": null,
      "outputs": []
    },
    {
      "cell_type": "code",
      "source": [
        "# Inversion des noms de colonnes\n",
        "df = df.rename(columns={'b_date_proposition': 'temp_col', 'b_date_creation': 'b_date_proposition', 'temp_col': 'b_date_creation'})\n"
      ],
      "metadata": {
        "id": "46-eMBDlHWvM"
      },
      "execution_count": null,
      "outputs": []
    },
    {
      "cell_type": "code",
      "source": [
        "df[df['b_date_creation'] < df['b_date_proposition']]\n"
      ],
      "metadata": {
        "id": "QrRXElniNfEd"
      },
      "execution_count": null,
      "outputs": []
    },
    {
      "cell_type": "code",
      "source": [
        "df.sample(10)"
      ],
      "metadata": {
        "id": "UGuxmR8zKIHK"
      },
      "execution_count": null,
      "outputs": []
    },
    {
      "cell_type": "code",
      "source": [
        "\n",
        "# Calcul de la colonne \"délai de matching\"\n",
        "df['delai_matching'] = (df['b_date_creation'] - df['b_date_proposition']).dt.days\n",
        "\n",
        "# Calcul du délai moyen\n",
        "delai_moyen = df['delai_matching'].mean()\n",
        "\n",
        "# Affichage du résultat\n",
        "print(f\"Délai moyen entre la proposition et la création : {delai_moyen} jours\")\n"
      ],
      "metadata": {
        "id": "5vTJMYex2FTJ"
      },
      "execution_count": null,
      "outputs": []
    },
    {
      "cell_type": "code",
      "source": [
        "# Suppression de la colonne \"delai_matching\"\n",
        "df = df.drop(columns=['delai_matching'])"
      ],
      "metadata": {
        "id": "N0FFmSYsOySw"
      },
      "execution_count": null,
      "outputs": []
    },
    {
      "cell_type": "markdown",
      "source": [
        "\n",
        "**1.Requête SQL permet de calculer le délai moyen de matching**\n"
      ],
      "metadata": {
        "id": "FNN-3GhFdoxC"
      }
    },
    {
      "cell_type": "markdown",
      "source": [
        "SELECT AVG(DATEDIFF(b_date_creation, b_date_proposition)) AS delai_moyen_matching\n",
        "FROM df_cleaned\n"
      ],
      "metadata": {
        "id": "oYC3sEvkr3ue"
      }
    },
    {
      "cell_type": "markdown",
      "source": [
        "**2.Code Python pour évaluer quel est le critère le plus important dans la réussite d'un matching.**"
      ],
      "metadata": {
        "id": "9RzRAxg4tA2s"
      }
    },
    {
      "cell_type": "code",
      "source": [
        "import seaborn as sns\n",
        "import matplotlib.pyplot as plt\n",
        "\n",
        "# Calcul la corrélation de Pearson entre b_score et chaque colonne numérique\n",
        "correlations = df.corr()['b_score'].sort_values(ascending=False)\n",
        "\n",
        "# Affichage des résultats\n",
        "print(correlations)\n",
        "\n",
        "\n",
        "\n"
      ],
      "metadata": {
        "id": "zD6VF_B8jUfj"
      },
      "execution_count": null,
      "outputs": []
    },
    {
      "cell_type": "markdown",
      "source": [
        "\n",
        "\n",
        "1. **Variables positivement corrélées avec 'b_score':**\n",
        "   - `j_admin_associe_id` (Corrélation = 0.379323) : Les bénévoles ayant un administrateur associé ont tendance à avoir des scores plus élevés.\n",
        "   - `b_delai_acceptation_minutes` (Corrélation = 0.270684) : Un délai d'acceptation plus long est associé à des scores plus élevés.\n",
        "\n",
        "2. **Variables négativement corrélées avec 'b_score':**\n",
        "   - `delai_matching` (Corrélation = -0.270554) : Un délai de matching plus long est associé à des scores plus bas.\n",
        "   - `j_bam_fait` (Corrélation = -0.427676) : Les bénévoles qui ont déjà interagi avec BAM (Bénévoles d'Avenir) ont tendance à avoir des scores plus bas.\n",
        "\n",
        "3. **Variables avec une corrélation intéressante:**\n",
        "   - `j_besoin_postuler_present` (Corrélation = -0.113970) : La présence du besoin de postuler est légèrement négativement corrélée avec les scores. Cela peut indiquer que les bénévoles ayant moins de besoins de postuler ont tendance à avoir des scores plus élevés.\n",
        "\n",
        "4. **Variables à considérer:**\n",
        "   - `b_duree_mois` (Corrélation = -0.195480) et `b_duree_binome` (Corrélation = -0.196732) : La durée du binôme et la durée en mois sont négativement corrélées avec les scores. Cela suggère que des durées plus longues peuvent être associées à des scores plus bas.\n",
        "\n",
        "5. **Variables sans corrélation significative:**\n",
        "   - `j_consentement_newsletter`, `j_ase`, etc. : Ces variables ont des corrélations proches de zéro, indiquant une faible association linéaire avec 'b_score'.\n",
        "\n"
      ],
      "metadata": {
        "id": "OR6cCGfaERec"
      }
    },
    {
      "cell_type": "code",
      "source": [
        "\n",
        "# Colonnes d'intérêt\n",
        "selected_columns = [\n",
        "    'b_score', 'b_date_proposition', 'b_delai_acceptation_minutes', 'b_duree_mois', 'b_duree_binome',\n",
        "    'delai_matching', 'j_admin_associe_id', 'j_besoin_decouvrir_present', 'j_nb_besoins', 'j_est_boursier',\n",
        "    'j_besoin_postuler_present', 'b_id', 'j_bam_fait', 'j_appel_validation_fait'\n",
        "]\n",
        "\n",
        "# Sélection des données correspondantes\n",
        "selected_data = df[selected_columns]\n",
        "\n",
        "# Calcul de la corrélation de Pearson\n",
        "correlations = selected_data.corr()\n",
        "\n",
        "# Heatmap\n",
        "plt.figure(figsize=(12, 10))\n",
        "sns.heatmap(correlations, cmap='coolwarm', annot=True, fmt=\".2f\")\n",
        "plt.title(\"Corrélation entre les colonnes sélectionnées\")\n",
        "plt.show()\n"
      ],
      "metadata": {
        "id": "I3NBT7y2zk7l"
      },
      "execution_count": null,
      "outputs": []
    },
    {
      "cell_type": "code",
      "source": [
        "# Enregistrer la corrélation dans un fichier CSV\n",
        "correlations.to_csv('correlations.csv', index=True)\n"
      ],
      "metadata": {
        "id": "PUkWrD-dEjFe"
      },
      "execution_count": null,
      "outputs": []
    },
    {
      "cell_type": "markdown",
      "source": [
        "\n",
        "1. **`b_score` avec d'autres variables** :\n",
        "   - **`b_score`** présente une corrélation positive significative avec `j_admin_associe_id` (0.379323), ce qui suggère qu'une augmentation de **`b_score`** est associée à une augmentation de `j_admin_associe_id`.\n",
        "   - La corrélation avec `j_est_boursier` est négative (-0.152784), indiquant une association inverse entre le score et le statut boursier.\n",
        "\n",
        "2. **`b_delai_acceptation_minutes` avec d'autres variables** :\n",
        "   - La corrélation avec `b_duree_mois` et `b_duree_binome` est faible, indiquant une faible association avec la durée du binôme.\n",
        "   - La corrélation avec `delai_matching` est également faible (0.014515), suggérant une faible association avec le délai de matching.\n",
        "\n",
        "3. **`j_admin_associe_id` avec d'autres variables** :\n",
        "   - La corrélation avec `j_besoin_decouvrir_present` est positive (0.245488), indiquant une relation positive.\n",
        "   - La corrélation avec `j_nb_besoins` est aussi positive (0.377570), suggérant une association plus forte.\n",
        "\n",
        "4. **`j_besoin_postuler_present` avec d'autres variables** :\n",
        "   - La corrélation avec `j_bam_fait` est négative (-0.246770), suggérant une relation inverse entre le besoin de postuler et la réalisation de l'appel à la BAM.\n",
        "   - La corrélation avec `j_nb_besoins` est positive (0.091688), indiquant une association plus faible.\n",
        "\n",
        "5. **`b_id` avec d'autres variables** :\n",
        "   - La corrélation avec `j_appel_validation_fait` est élevée (0.561833), suggérant une forte association entre l'ID et la réalisation de l'appel à la validation.\n"
      ],
      "metadata": {
        "id": "5KF4NLrBHLCu"
      }
    },
    {
      "cell_type": "code",
      "source": [
        "\n",
        "\n",
        "# Sélectionner toutes les colonnes de votre DataFrame\n",
        "all_columns = df.columns\n",
        "\n",
        "# Calculer la matrice de corrélation\n",
        "correlation_matrix = df[all_columns].corr()\n",
        "\n",
        "# Créer un masque pour la moitié supérieure de la matrice\n",
        "mask = np.triu(np.ones_like(correlation_matrix, dtype=bool))\n",
        "\n",
        "# Définir la taille de la figure\n",
        "plt.figure(figsize=(16, 12))\n",
        "\n",
        "# Créer le heatmap avec Seaborn\n",
        "sns.heatmap(correlation_matrix, annot=True, cmap='coolwarm', fmt=\".2f\", mask=mask)\n",
        "\n",
        "# Afficher le plot\n",
        "plt.show()\n"
      ],
      "metadata": {
        "id": "cnavaf29BiMs"
      },
      "execution_count": null,
      "outputs": []
    },
    {
      "cell_type": "code",
      "source": [
        "# Enregistrement la matrice de corrélation dans un fichier CSV\n",
        "correlation_matrix.to_csv('correlation_matrix.csv', index=True)\n"
      ],
      "metadata": {
        "id": "FH_VW1V9vmo0"
      },
      "execution_count": null,
      "outputs": []
    },
    {
      "cell_type": "markdown",
      "source": [
        "\n",
        "\n",
        "1. **`j_besoin_anglais_present` avec d'autres variables** :\n",
        "   - La corrélation avec `j_memo_lu` est de 0.109284, indiquant une faible association positive.\n",
        "   - La corrélation avec `j_video_vue` est de 0.160614, suggérant une association légèrement plus forte.\n",
        "   - La corrélation avec `j_mono_besoin` est de -0.160614, indiquant une association négative, probablement liée à des besoins monomatière.\n",
        "\n",
        "2. **`j_memo_lu` avec d'autres variables** :\n",
        "   - La corrélation avec `j_video_vue` est de -0.205826, indiquant une association négative.\n",
        "   - La corrélation avec `j_mono_besoin` est de -0.160614, ce qui est cohérent avec la précédente corrélation, indiquant une association négative avec les besoins monomatériaux.\n",
        "\n",
        "3. **`j_video_vue` avec d'autres variables** :\n",
        "   - La corrélation avec `j_age` est de 0.160614, indiquant une association positive légère.\n",
        "   - La corrélation avec `j_etudiant_etranger` est de 0.451895, suggérant une association plus forte avec les étudiants étrangers.\n",
        "\n",
        "4. **`j_mono_besoin` avec d'autres variables** :\n",
        "   - La corrélation avec `j_age` est de -0.160614, indiquant une association négative légère.\n",
        "   - La corrélation avec `j_besoin_performer_present` est de 0.080048, indiquant une association positive.\n",
        "\n",
        "5. **`j_binome_regional_souhaite` avec d'autres variables** :\n",
        "   - Il y a des valeurs NaN, indiquant qu'il n'y a pas suffisamment de données pour calculer la corrélation avec d'autres variables.\n",
        "\n",
        "6. **`j_age` avec d'autres variables** :\n",
        "   - La corrélation avec `j_appel_validation_fait` est de 0.492418, indiquant une association positive avec la réalisation de l'appel à la validation.\n",
        "   - La corrélation avec `j_ase` est de -0.009819, indiquant une association très faible avec le statut ASE.\n",
        "\n",
        "7. **`delai_matching` avec d'autres variables** :\n",
        "   - La corrélation avec `b_id` est de 0.633110, suggérant une forte association positive entre le délai de matching et l'ID.\n"
      ],
      "metadata": {
        "id": "HwojYn2uIi3x"
      }
    },
    {
      "cell_type": "markdown",
      "source": [
        "**CONCLUSION**"
      ],
      "metadata": {
        "id": "PA-ytKcVJ2Uz"
      }
    },
    {
      "cell_type": "markdown",
      "source": [
        "1. **Délai d'acceptation :**\n",
        "   - Les données ont révélé que des délais d'acceptation courts sont associés à des scores plus élevés, suggérant un impact positif sur le succès du matching.\n",
        "\n",
        "2. **Intérêt pour la découverte des besoins :**\n",
        "   - Les données ont montré une corrélation positive entre la présence de l'intérêt (\"j_besoin_decouvrir_present\") et \"b_score\", confirmant que cet intérêt est associé à des scores plus élevés.\n",
        "\n",
        "3. **Durée du binôme :**\n",
        "   - Les données ont indiqué des corrélations négatives entre les colonnes liées à la durée du binôme, telles que \"b_duree_binome\" et \"b_duree_mois\", et \"b_score\", suggérant que des durées plus longues sont associées à des scores plus élevés. Cela souligne l'importance des binômes prolongés dans la construction de relations bénévole-jeune solides.\n",
        "\n",
        "4. **`j_appel_validation_fait` (Corrélation avec `delai_matching`: 0.492418)** :\n",
        "   - Une corrélation positive significative est observée avec le fait d'avoir réalisé l'appel à la validation (`j_appel_validation_fait`). Cela suggère que les jeunes ayant effectué cet appel ont tendance à avoir des délais de matching plus courts. Cela pourrait indiquer que l'engagement actif des jeunes dans le processus contribue à une meilleure réussite du matching.\n",
        "\n",
        "5. **`j_etudiant_etranger` (Corrélation avec `delai_matching`: -0.076326)** :\n",
        "   - Bien que cette corrélation soit moins forte, une corrélation négative est observée avec le statut d'étudiant étranger (`j_etudiant_etranger`). Cela indique que les étudiants étrangers ont tendance à avoir des délais de matching plus courts. Cela pourrait être lié à une priorité accrue accordée aux étudiants étrangers dans le processus de matching.\n",
        "\n"
      ],
      "metadata": {
        "id": "1xxKDj6GJXoE"
      }
    },
    {
      "cell_type": "markdown",
      "source": [
        "Angele MENDY, le 05/12/2023"
      ],
      "metadata": {
        "id": "aoMDoRyjJ7OU"
      }
    }
  ]
}